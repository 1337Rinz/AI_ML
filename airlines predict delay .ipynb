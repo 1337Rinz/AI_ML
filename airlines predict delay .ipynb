{
  "nbformat": 4,
  "nbformat_minor": 0,
  "metadata": {
    "colab": {
      "provenance": [],
      "toc_visible": true,
      "authorship_tag": "ABX9TyOShCmF9R0DzKkQglguWBOK",
      "include_colab_link": true
    },
    "kernelspec": {
      "name": "python3",
      "display_name": "Python 3"
    },
    "language_info": {
      "name": "python"
    }
  },
  "cells": [
    {
      "cell_type": "markdown",
      "metadata": {
        "id": "view-in-github",
        "colab_type": "text"
      },
      "source": [
        "<a href=\"https://colab.research.google.com/github/1337Rinz/AI_ML/blob/main/airlines%20predict%20delay%20.ipynb\" target=\"_parent\"><img src=\"https://colab.research.google.com/assets/colab-badge.svg\" alt=\"Open In Colab\"/></a>"
      ]
    },
    {
      "cell_type": "code",
      "execution_count": 96,
      "metadata": {
        "id": "AXHeRdhI1uRQ"
      },
      "outputs": [],
      "source": [
        "# data source : https://www.kaggle.com/datasets/jimschacko/airlines-dataset-to-predict-a-delay"
      ]
    },
    {
      "cell_type": "code",
      "source": [
        "def missing_values(df):\n",
        "        mis_val = df.isnull().sum() \n",
        "        mis_val_percent = 100 * df.isnull().sum() / len(df) \n",
        "        mis_val_table = pd.concat([mis_val, mis_val_percent], axis=1)\n",
        "        mis_val_table_ren_columns = mis_val_table.rename(\n",
        "        columns = {0 : 'Số giá trị Missing', 1 : 'Tỷ lệ % missing'})\n",
        "        mis_val_table_ren_columns = mis_val_table_ren_columns[\n",
        "            mis_val_table_ren_columns.iloc[:,1] != 0].sort_values(\n",
        "        'Tỷ lệ % missing', ascending=False).round(2)\n",
        "        print (\"File dữ liệu bao gồm có: \" + str(df.shape[1]) + \" cột.\\n\"      \n",
        "            \"Có \" + str(mis_val_table_ren_columns.shape[0]) +\n",
        "              \" cột chứa missing values.\")\n",
        "        return mis_val_table_ren_columns"
      ],
      "metadata": {
        "id": "Nn5MYnWSCCem"
      },
      "execution_count": 97,
      "outputs": []
    },
    {
      "cell_type": "markdown",
      "source": [
        "# Tiền xử lý. "
      ],
      "metadata": {
        "id": "sMl8Wouu2LUi"
      }
    },
    {
      "cell_type": "code",
      "source": [
        "import numpy as np \n",
        "import pandas as pd\n",
        "import matplotlib.pyplot as plt\n",
        "import seaborn as sns"
      ],
      "metadata": {
        "id": "cuIP01yC149m"
      },
      "execution_count": 98,
      "outputs": []
    },
    {
      "cell_type": "code",
      "source": [
        "# load dataset\n",
        "df = pd.read_csv('https://raw.githubusercontent.com/1337Rinz/DATA_for_machine_learning/main/Airlines.csv')\n",
        "\n",
        "print(df.shape)\n",
        "df.head()\n"
      ],
      "metadata": {
        "colab": {
          "base_uri": "https://localhost:8080/",
          "height": 224
        },
        "id": "GhH_wLxh2VWa",
        "outputId": "646904e7-5166-4ccd-cccb-e0a7f3fe68bb"
      },
      "execution_count": 99,
      "outputs": [
        {
          "output_type": "stream",
          "name": "stdout",
          "text": [
            "(539383, 9)\n"
          ]
        },
        {
          "output_type": "execute_result",
          "data": {
            "text/plain": [
              "   id Airline  Flight AirportFrom AirportTo  DayOfWeek  Time  Length  Delay\n",
              "0   1      CO     269         SFO       IAH          3    15     205      1\n",
              "1   2      US    1558         PHX       CLT          3    15     222      1\n",
              "2   3      AA    2400         LAX       DFW          3    20     165      1\n",
              "3   4      AA    2466         SFO       DFW          3    20     195      1\n",
              "4   5      AS     108         ANC       SEA          3    30     202      0"
            ],
            "text/html": [
              "\n",
              "  <div id=\"df-c74b24c8-1391-498c-be3a-9e38f5fb40ac\">\n",
              "    <div class=\"colab-df-container\">\n",
              "      <div>\n",
              "<style scoped>\n",
              "    .dataframe tbody tr th:only-of-type {\n",
              "        vertical-align: middle;\n",
              "    }\n",
              "\n",
              "    .dataframe tbody tr th {\n",
              "        vertical-align: top;\n",
              "    }\n",
              "\n",
              "    .dataframe thead th {\n",
              "        text-align: right;\n",
              "    }\n",
              "</style>\n",
              "<table border=\"1\" class=\"dataframe\">\n",
              "  <thead>\n",
              "    <tr style=\"text-align: right;\">\n",
              "      <th></th>\n",
              "      <th>id</th>\n",
              "      <th>Airline</th>\n",
              "      <th>Flight</th>\n",
              "      <th>AirportFrom</th>\n",
              "      <th>AirportTo</th>\n",
              "      <th>DayOfWeek</th>\n",
              "      <th>Time</th>\n",
              "      <th>Length</th>\n",
              "      <th>Delay</th>\n",
              "    </tr>\n",
              "  </thead>\n",
              "  <tbody>\n",
              "    <tr>\n",
              "      <th>0</th>\n",
              "      <td>1</td>\n",
              "      <td>CO</td>\n",
              "      <td>269</td>\n",
              "      <td>SFO</td>\n",
              "      <td>IAH</td>\n",
              "      <td>3</td>\n",
              "      <td>15</td>\n",
              "      <td>205</td>\n",
              "      <td>1</td>\n",
              "    </tr>\n",
              "    <tr>\n",
              "      <th>1</th>\n",
              "      <td>2</td>\n",
              "      <td>US</td>\n",
              "      <td>1558</td>\n",
              "      <td>PHX</td>\n",
              "      <td>CLT</td>\n",
              "      <td>3</td>\n",
              "      <td>15</td>\n",
              "      <td>222</td>\n",
              "      <td>1</td>\n",
              "    </tr>\n",
              "    <tr>\n",
              "      <th>2</th>\n",
              "      <td>3</td>\n",
              "      <td>AA</td>\n",
              "      <td>2400</td>\n",
              "      <td>LAX</td>\n",
              "      <td>DFW</td>\n",
              "      <td>3</td>\n",
              "      <td>20</td>\n",
              "      <td>165</td>\n",
              "      <td>1</td>\n",
              "    </tr>\n",
              "    <tr>\n",
              "      <th>3</th>\n",
              "      <td>4</td>\n",
              "      <td>AA</td>\n",
              "      <td>2466</td>\n",
              "      <td>SFO</td>\n",
              "      <td>DFW</td>\n",
              "      <td>3</td>\n",
              "      <td>20</td>\n",
              "      <td>195</td>\n",
              "      <td>1</td>\n",
              "    </tr>\n",
              "    <tr>\n",
              "      <th>4</th>\n",
              "      <td>5</td>\n",
              "      <td>AS</td>\n",
              "      <td>108</td>\n",
              "      <td>ANC</td>\n",
              "      <td>SEA</td>\n",
              "      <td>3</td>\n",
              "      <td>30</td>\n",
              "      <td>202</td>\n",
              "      <td>0</td>\n",
              "    </tr>\n",
              "  </tbody>\n",
              "</table>\n",
              "</div>\n",
              "      <button class=\"colab-df-convert\" onclick=\"convertToInteractive('df-c74b24c8-1391-498c-be3a-9e38f5fb40ac')\"\n",
              "              title=\"Convert this dataframe to an interactive table.\"\n",
              "              style=\"display:none;\">\n",
              "        \n",
              "  <svg xmlns=\"http://www.w3.org/2000/svg\" height=\"24px\"viewBox=\"0 0 24 24\"\n",
              "       width=\"24px\">\n",
              "    <path d=\"M0 0h24v24H0V0z\" fill=\"none\"/>\n",
              "    <path d=\"M18.56 5.44l.94 2.06.94-2.06 2.06-.94-2.06-.94-.94-2.06-.94 2.06-2.06.94zm-11 1L8.5 8.5l.94-2.06 2.06-.94-2.06-.94L8.5 2.5l-.94 2.06-2.06.94zm10 10l.94 2.06.94-2.06 2.06-.94-2.06-.94-.94-2.06-.94 2.06-2.06.94z\"/><path d=\"M17.41 7.96l-1.37-1.37c-.4-.4-.92-.59-1.43-.59-.52 0-1.04.2-1.43.59L10.3 9.45l-7.72 7.72c-.78.78-.78 2.05 0 2.83L4 21.41c.39.39.9.59 1.41.59.51 0 1.02-.2 1.41-.59l7.78-7.78 2.81-2.81c.8-.78.8-2.07 0-2.86zM5.41 20L4 18.59l7.72-7.72 1.47 1.35L5.41 20z\"/>\n",
              "  </svg>\n",
              "      </button>\n",
              "      \n",
              "  <style>\n",
              "    .colab-df-container {\n",
              "      display:flex;\n",
              "      flex-wrap:wrap;\n",
              "      gap: 12px;\n",
              "    }\n",
              "\n",
              "    .colab-df-convert {\n",
              "      background-color: #E8F0FE;\n",
              "      border: none;\n",
              "      border-radius: 50%;\n",
              "      cursor: pointer;\n",
              "      display: none;\n",
              "      fill: #1967D2;\n",
              "      height: 32px;\n",
              "      padding: 0 0 0 0;\n",
              "      width: 32px;\n",
              "    }\n",
              "\n",
              "    .colab-df-convert:hover {\n",
              "      background-color: #E2EBFA;\n",
              "      box-shadow: 0px 1px 2px rgba(60, 64, 67, 0.3), 0px 1px 3px 1px rgba(60, 64, 67, 0.15);\n",
              "      fill: #174EA6;\n",
              "    }\n",
              "\n",
              "    [theme=dark] .colab-df-convert {\n",
              "      background-color: #3B4455;\n",
              "      fill: #D2E3FC;\n",
              "    }\n",
              "\n",
              "    [theme=dark] .colab-df-convert:hover {\n",
              "      background-color: #434B5C;\n",
              "      box-shadow: 0px 1px 3px 1px rgba(0, 0, 0, 0.15);\n",
              "      filter: drop-shadow(0px 1px 2px rgba(0, 0, 0, 0.3));\n",
              "      fill: #FFFFFF;\n",
              "    }\n",
              "  </style>\n",
              "\n",
              "      <script>\n",
              "        const buttonEl =\n",
              "          document.querySelector('#df-c74b24c8-1391-498c-be3a-9e38f5fb40ac button.colab-df-convert');\n",
              "        buttonEl.style.display =\n",
              "          google.colab.kernel.accessAllowed ? 'block' : 'none';\n",
              "\n",
              "        async function convertToInteractive(key) {\n",
              "          const element = document.querySelector('#df-c74b24c8-1391-498c-be3a-9e38f5fb40ac');\n",
              "          const dataTable =\n",
              "            await google.colab.kernel.invokeFunction('convertToInteractive',\n",
              "                                                     [key], {});\n",
              "          if (!dataTable) return;\n",
              "\n",
              "          const docLinkHtml = 'Like what you see? Visit the ' +\n",
              "            '<a target=\"_blank\" href=https://colab.research.google.com/notebooks/data_table.ipynb>data table notebook</a>'\n",
              "            + ' to learn more about interactive tables.';\n",
              "          element.innerHTML = '';\n",
              "          dataTable['output_type'] = 'display_data';\n",
              "          await google.colab.output.renderOutput(dataTable, element);\n",
              "          const docLink = document.createElement('div');\n",
              "          docLink.innerHTML = docLinkHtml;\n",
              "          element.appendChild(docLink);\n",
              "        }\n",
              "      </script>\n",
              "    </div>\n",
              "  </div>\n",
              "  "
            ]
          },
          "metadata": {},
          "execution_count": 99
        }
      ]
    },
    {
      "cell_type": "code",
      "source": [
        "# ktra có dữ liệu khuyết không\n",
        "\n",
        "missing_values(df)"
      ],
      "metadata": {
        "colab": {
          "base_uri": "https://localhost:8080/",
          "height": 84
        },
        "id": "RkMFQmJOCE3C",
        "outputId": "f2815692-600f-4316-8079-c1353c396205"
      },
      "execution_count": 100,
      "outputs": [
        {
          "output_type": "stream",
          "name": "stdout",
          "text": [
            "File dữ liệu bao gồm có: 9 cột.\n",
            "Có 0 cột chứa missing values.\n"
          ]
        },
        {
          "output_type": "execute_result",
          "data": {
            "text/plain": [
              "Empty DataFrame\n",
              "Columns: [Số giá trị Missing, Tỷ lệ % missing]\n",
              "Index: []"
            ],
            "text/html": [
              "\n",
              "  <div id=\"df-2076a21b-de6e-47c5-82a5-b65e689b0f8a\">\n",
              "    <div class=\"colab-df-container\">\n",
              "      <div>\n",
              "<style scoped>\n",
              "    .dataframe tbody tr th:only-of-type {\n",
              "        vertical-align: middle;\n",
              "    }\n",
              "\n",
              "    .dataframe tbody tr th {\n",
              "        vertical-align: top;\n",
              "    }\n",
              "\n",
              "    .dataframe thead th {\n",
              "        text-align: right;\n",
              "    }\n",
              "</style>\n",
              "<table border=\"1\" class=\"dataframe\">\n",
              "  <thead>\n",
              "    <tr style=\"text-align: right;\">\n",
              "      <th></th>\n",
              "      <th>Số giá trị Missing</th>\n",
              "      <th>Tỷ lệ % missing</th>\n",
              "    </tr>\n",
              "  </thead>\n",
              "  <tbody>\n",
              "  </tbody>\n",
              "</table>\n",
              "</div>\n",
              "      <button class=\"colab-df-convert\" onclick=\"convertToInteractive('df-2076a21b-de6e-47c5-82a5-b65e689b0f8a')\"\n",
              "              title=\"Convert this dataframe to an interactive table.\"\n",
              "              style=\"display:none;\">\n",
              "        \n",
              "  <svg xmlns=\"http://www.w3.org/2000/svg\" height=\"24px\"viewBox=\"0 0 24 24\"\n",
              "       width=\"24px\">\n",
              "    <path d=\"M0 0h24v24H0V0z\" fill=\"none\"/>\n",
              "    <path d=\"M18.56 5.44l.94 2.06.94-2.06 2.06-.94-2.06-.94-.94-2.06-.94 2.06-2.06.94zm-11 1L8.5 8.5l.94-2.06 2.06-.94-2.06-.94L8.5 2.5l-.94 2.06-2.06.94zm10 10l.94 2.06.94-2.06 2.06-.94-2.06-.94-.94-2.06-.94 2.06-2.06.94z\"/><path d=\"M17.41 7.96l-1.37-1.37c-.4-.4-.92-.59-1.43-.59-.52 0-1.04.2-1.43.59L10.3 9.45l-7.72 7.72c-.78.78-.78 2.05 0 2.83L4 21.41c.39.39.9.59 1.41.59.51 0 1.02-.2 1.41-.59l7.78-7.78 2.81-2.81c.8-.78.8-2.07 0-2.86zM5.41 20L4 18.59l7.72-7.72 1.47 1.35L5.41 20z\"/>\n",
              "  </svg>\n",
              "      </button>\n",
              "      \n",
              "  <style>\n",
              "    .colab-df-container {\n",
              "      display:flex;\n",
              "      flex-wrap:wrap;\n",
              "      gap: 12px;\n",
              "    }\n",
              "\n",
              "    .colab-df-convert {\n",
              "      background-color: #E8F0FE;\n",
              "      border: none;\n",
              "      border-radius: 50%;\n",
              "      cursor: pointer;\n",
              "      display: none;\n",
              "      fill: #1967D2;\n",
              "      height: 32px;\n",
              "      padding: 0 0 0 0;\n",
              "      width: 32px;\n",
              "    }\n",
              "\n",
              "    .colab-df-convert:hover {\n",
              "      background-color: #E2EBFA;\n",
              "      box-shadow: 0px 1px 2px rgba(60, 64, 67, 0.3), 0px 1px 3px 1px rgba(60, 64, 67, 0.15);\n",
              "      fill: #174EA6;\n",
              "    }\n",
              "\n",
              "    [theme=dark] .colab-df-convert {\n",
              "      background-color: #3B4455;\n",
              "      fill: #D2E3FC;\n",
              "    }\n",
              "\n",
              "    [theme=dark] .colab-df-convert:hover {\n",
              "      background-color: #434B5C;\n",
              "      box-shadow: 0px 1px 3px 1px rgba(0, 0, 0, 0.15);\n",
              "      filter: drop-shadow(0px 1px 2px rgba(0, 0, 0, 0.3));\n",
              "      fill: #FFFFFF;\n",
              "    }\n",
              "  </style>\n",
              "\n",
              "      <script>\n",
              "        const buttonEl =\n",
              "          document.querySelector('#df-2076a21b-de6e-47c5-82a5-b65e689b0f8a button.colab-df-convert');\n",
              "        buttonEl.style.display =\n",
              "          google.colab.kernel.accessAllowed ? 'block' : 'none';\n",
              "\n",
              "        async function convertToInteractive(key) {\n",
              "          const element = document.querySelector('#df-2076a21b-de6e-47c5-82a5-b65e689b0f8a');\n",
              "          const dataTable =\n",
              "            await google.colab.kernel.invokeFunction('convertToInteractive',\n",
              "                                                     [key], {});\n",
              "          if (!dataTable) return;\n",
              "\n",
              "          const docLinkHtml = 'Like what you see? Visit the ' +\n",
              "            '<a target=\"_blank\" href=https://colab.research.google.com/notebooks/data_table.ipynb>data table notebook</a>'\n",
              "            + ' to learn more about interactive tables.';\n",
              "          element.innerHTML = '';\n",
              "          dataTable['output_type'] = 'display_data';\n",
              "          await google.colab.output.renderOutput(dataTable, element);\n",
              "          const docLink = document.createElement('div');\n",
              "          docLink.innerHTML = docLinkHtml;\n",
              "          element.appendChild(docLink);\n",
              "        }\n",
              "      </script>\n",
              "    </div>\n",
              "  </div>\n",
              "  "
            ]
          },
          "metadata": {},
          "execution_count": 100
        }
      ]
    },
    {
      "cell_type": "code",
      "source": [
        "df.info()\n",
        "# ta thấy các feature [Airline, AirportFrom, AirportTo] chưa đồng bộ kiểu dữ liệu"
      ],
      "metadata": {
        "colab": {
          "base_uri": "https://localhost:8080/"
        },
        "id": "lCJNMGIj2kO6",
        "outputId": "39598913-c995-4d42-c9d8-cdd19bbeebfc"
      },
      "execution_count": 101,
      "outputs": [
        {
          "output_type": "stream",
          "name": "stdout",
          "text": [
            "<class 'pandas.core.frame.DataFrame'>\n",
            "RangeIndex: 539383 entries, 0 to 539382\n",
            "Data columns (total 9 columns):\n",
            " #   Column       Non-Null Count   Dtype \n",
            "---  ------       --------------   ----- \n",
            " 0   id           539383 non-null  int64 \n",
            " 1   Airline      539383 non-null  object\n",
            " 2   Flight       539383 non-null  int64 \n",
            " 3   AirportFrom  539383 non-null  object\n",
            " 4   AirportTo    539383 non-null  object\n",
            " 5   DayOfWeek    539383 non-null  int64 \n",
            " 6   Time         539383 non-null  int64 \n",
            " 7   Length       539383 non-null  int64 \n",
            " 8   Delay        539383 non-null  int64 \n",
            "dtypes: int64(6), object(3)\n",
            "memory usage: 37.0+ MB\n"
          ]
        }
      ]
    },
    {
      "cell_type": "code",
      "source": [
        "# clone df = data(để xử lý tính toán không ảnh hưởng đến Dataset gốc)\n",
        "# drop thuộc tính không quan trọng cols id\n",
        "data = df\n",
        "data = data.drop(['id'], axis = 1)\n",
        "data.info()\n",
        "data.head()\n"
      ],
      "metadata": {
        "colab": {
          "base_uri": "https://localhost:8080/",
          "height": 467
        },
        "id": "DnyKNVBD7CUQ",
        "outputId": "3d4f13ce-cca3-4ad1-f89c-743133c05f0d"
      },
      "execution_count": 102,
      "outputs": [
        {
          "output_type": "stream",
          "name": "stdout",
          "text": [
            "<class 'pandas.core.frame.DataFrame'>\n",
            "RangeIndex: 539383 entries, 0 to 539382\n",
            "Data columns (total 8 columns):\n",
            " #   Column       Non-Null Count   Dtype \n",
            "---  ------       --------------   ----- \n",
            " 0   Airline      539383 non-null  object\n",
            " 1   Flight       539383 non-null  int64 \n",
            " 2   AirportFrom  539383 non-null  object\n",
            " 3   AirportTo    539383 non-null  object\n",
            " 4   DayOfWeek    539383 non-null  int64 \n",
            " 5   Time         539383 non-null  int64 \n",
            " 6   Length       539383 non-null  int64 \n",
            " 7   Delay        539383 non-null  int64 \n",
            "dtypes: int64(5), object(3)\n",
            "memory usage: 32.9+ MB\n"
          ]
        },
        {
          "output_type": "execute_result",
          "data": {
            "text/plain": [
              "  Airline  Flight AirportFrom AirportTo  DayOfWeek  Time  Length  Delay\n",
              "0      CO     269         SFO       IAH          3    15     205      1\n",
              "1      US    1558         PHX       CLT          3    15     222      1\n",
              "2      AA    2400         LAX       DFW          3    20     165      1\n",
              "3      AA    2466         SFO       DFW          3    20     195      1\n",
              "4      AS     108         ANC       SEA          3    30     202      0"
            ],
            "text/html": [
              "\n",
              "  <div id=\"df-3b1f00a0-f4f9-4831-a1e3-39fca02e88f5\">\n",
              "    <div class=\"colab-df-container\">\n",
              "      <div>\n",
              "<style scoped>\n",
              "    .dataframe tbody tr th:only-of-type {\n",
              "        vertical-align: middle;\n",
              "    }\n",
              "\n",
              "    .dataframe tbody tr th {\n",
              "        vertical-align: top;\n",
              "    }\n",
              "\n",
              "    .dataframe thead th {\n",
              "        text-align: right;\n",
              "    }\n",
              "</style>\n",
              "<table border=\"1\" class=\"dataframe\">\n",
              "  <thead>\n",
              "    <tr style=\"text-align: right;\">\n",
              "      <th></th>\n",
              "      <th>Airline</th>\n",
              "      <th>Flight</th>\n",
              "      <th>AirportFrom</th>\n",
              "      <th>AirportTo</th>\n",
              "      <th>DayOfWeek</th>\n",
              "      <th>Time</th>\n",
              "      <th>Length</th>\n",
              "      <th>Delay</th>\n",
              "    </tr>\n",
              "  </thead>\n",
              "  <tbody>\n",
              "    <tr>\n",
              "      <th>0</th>\n",
              "      <td>CO</td>\n",
              "      <td>269</td>\n",
              "      <td>SFO</td>\n",
              "      <td>IAH</td>\n",
              "      <td>3</td>\n",
              "      <td>15</td>\n",
              "      <td>205</td>\n",
              "      <td>1</td>\n",
              "    </tr>\n",
              "    <tr>\n",
              "      <th>1</th>\n",
              "      <td>US</td>\n",
              "      <td>1558</td>\n",
              "      <td>PHX</td>\n",
              "      <td>CLT</td>\n",
              "      <td>3</td>\n",
              "      <td>15</td>\n",
              "      <td>222</td>\n",
              "      <td>1</td>\n",
              "    </tr>\n",
              "    <tr>\n",
              "      <th>2</th>\n",
              "      <td>AA</td>\n",
              "      <td>2400</td>\n",
              "      <td>LAX</td>\n",
              "      <td>DFW</td>\n",
              "      <td>3</td>\n",
              "      <td>20</td>\n",
              "      <td>165</td>\n",
              "      <td>1</td>\n",
              "    </tr>\n",
              "    <tr>\n",
              "      <th>3</th>\n",
              "      <td>AA</td>\n",
              "      <td>2466</td>\n",
              "      <td>SFO</td>\n",
              "      <td>DFW</td>\n",
              "      <td>3</td>\n",
              "      <td>20</td>\n",
              "      <td>195</td>\n",
              "      <td>1</td>\n",
              "    </tr>\n",
              "    <tr>\n",
              "      <th>4</th>\n",
              "      <td>AS</td>\n",
              "      <td>108</td>\n",
              "      <td>ANC</td>\n",
              "      <td>SEA</td>\n",
              "      <td>3</td>\n",
              "      <td>30</td>\n",
              "      <td>202</td>\n",
              "      <td>0</td>\n",
              "    </tr>\n",
              "  </tbody>\n",
              "</table>\n",
              "</div>\n",
              "      <button class=\"colab-df-convert\" onclick=\"convertToInteractive('df-3b1f00a0-f4f9-4831-a1e3-39fca02e88f5')\"\n",
              "              title=\"Convert this dataframe to an interactive table.\"\n",
              "              style=\"display:none;\">\n",
              "        \n",
              "  <svg xmlns=\"http://www.w3.org/2000/svg\" height=\"24px\"viewBox=\"0 0 24 24\"\n",
              "       width=\"24px\">\n",
              "    <path d=\"M0 0h24v24H0V0z\" fill=\"none\"/>\n",
              "    <path d=\"M18.56 5.44l.94 2.06.94-2.06 2.06-.94-2.06-.94-.94-2.06-.94 2.06-2.06.94zm-11 1L8.5 8.5l.94-2.06 2.06-.94-2.06-.94L8.5 2.5l-.94 2.06-2.06.94zm10 10l.94 2.06.94-2.06 2.06-.94-2.06-.94-.94-2.06-.94 2.06-2.06.94z\"/><path d=\"M17.41 7.96l-1.37-1.37c-.4-.4-.92-.59-1.43-.59-.52 0-1.04.2-1.43.59L10.3 9.45l-7.72 7.72c-.78.78-.78 2.05 0 2.83L4 21.41c.39.39.9.59 1.41.59.51 0 1.02-.2 1.41-.59l7.78-7.78 2.81-2.81c.8-.78.8-2.07 0-2.86zM5.41 20L4 18.59l7.72-7.72 1.47 1.35L5.41 20z\"/>\n",
              "  </svg>\n",
              "      </button>\n",
              "      \n",
              "  <style>\n",
              "    .colab-df-container {\n",
              "      display:flex;\n",
              "      flex-wrap:wrap;\n",
              "      gap: 12px;\n",
              "    }\n",
              "\n",
              "    .colab-df-convert {\n",
              "      background-color: #E8F0FE;\n",
              "      border: none;\n",
              "      border-radius: 50%;\n",
              "      cursor: pointer;\n",
              "      display: none;\n",
              "      fill: #1967D2;\n",
              "      height: 32px;\n",
              "      padding: 0 0 0 0;\n",
              "      width: 32px;\n",
              "    }\n",
              "\n",
              "    .colab-df-convert:hover {\n",
              "      background-color: #E2EBFA;\n",
              "      box-shadow: 0px 1px 2px rgba(60, 64, 67, 0.3), 0px 1px 3px 1px rgba(60, 64, 67, 0.15);\n",
              "      fill: #174EA6;\n",
              "    }\n",
              "\n",
              "    [theme=dark] .colab-df-convert {\n",
              "      background-color: #3B4455;\n",
              "      fill: #D2E3FC;\n",
              "    }\n",
              "\n",
              "    [theme=dark] .colab-df-convert:hover {\n",
              "      background-color: #434B5C;\n",
              "      box-shadow: 0px 1px 3px 1px rgba(0, 0, 0, 0.15);\n",
              "      filter: drop-shadow(0px 1px 2px rgba(0, 0, 0, 0.3));\n",
              "      fill: #FFFFFF;\n",
              "    }\n",
              "  </style>\n",
              "\n",
              "      <script>\n",
              "        const buttonEl =\n",
              "          document.querySelector('#df-3b1f00a0-f4f9-4831-a1e3-39fca02e88f5 button.colab-df-convert');\n",
              "        buttonEl.style.display =\n",
              "          google.colab.kernel.accessAllowed ? 'block' : 'none';\n",
              "\n",
              "        async function convertToInteractive(key) {\n",
              "          const element = document.querySelector('#df-3b1f00a0-f4f9-4831-a1e3-39fca02e88f5');\n",
              "          const dataTable =\n",
              "            await google.colab.kernel.invokeFunction('convertToInteractive',\n",
              "                                                     [key], {});\n",
              "          if (!dataTable) return;\n",
              "\n",
              "          const docLinkHtml = 'Like what you see? Visit the ' +\n",
              "            '<a target=\"_blank\" href=https://colab.research.google.com/notebooks/data_table.ipynb>data table notebook</a>'\n",
              "            + ' to learn more about interactive tables.';\n",
              "          element.innerHTML = '';\n",
              "          dataTable['output_type'] = 'display_data';\n",
              "          await google.colab.output.renderOutput(dataTable, element);\n",
              "          const docLink = document.createElement('div');\n",
              "          docLink.innerHTML = docLinkHtml;\n",
              "          element.appendChild(docLink);\n",
              "        }\n",
              "      </script>\n",
              "    </div>\n",
              "  </div>\n",
              "  "
            ]
          },
          "metadata": {},
          "execution_count": 102
        }
      ]
    },
    {
      "cell_type": "code",
      "source": [
        "# kiểm tra mật độ Data\n",
        "data.value_counts()"
      ],
      "metadata": {
        "colab": {
          "base_uri": "https://localhost:8080/"
        },
        "id": "2q3lcgg0D3d3",
        "outputId": "bc016836-4ce7-4d6d-9c7f-fb6451185a6b"
      },
      "execution_count": 103,
      "outputs": [
        {
          "output_type": "execute_result",
          "data": {
            "text/plain": [
              "Airline  Flight  AirportFrom  AirportTo  DayOfWeek  Time  Length  Delay\n",
              "AA       1008    SAN          DFW        5          515   180     0        5\n",
              "F9       416     LAX          DEN        3          390   140     0        5\n",
              "MQ       2711    DFW          CAE        3          450   130     0        5\n",
              "         3193    LAX          SJC        3          400   75      0        5\n",
              "WN       327     SEA          MDW        4          825   250     1        5\n",
              "                                                                          ..\n",
              "DL       1576    PDX          ATL        4          1375  268     0        1\n",
              "OO       6847    SBA          SFO        3          1240  80      1        1\n",
              "                                         4          1240  80      0        1\n",
              "                                                                  1        1\n",
              "9E       3650    ATL          BHM        4          930   55      1        1\n",
              "Length: 322765, dtype: int64"
            ]
          },
          "metadata": {},
          "execution_count": 103
        }
      ]
    },
    {
      "cell_type": "code",
      "source": [
        "# số hoá  [Airline, AirportFrom, AirportTo] \n",
        "from sklearn import preprocessing\n",
        "\n",
        "le = preprocessing.LabelEncoder()\n",
        "le.fit(data.Airline)\n",
        "data['Airline'] = le.transform(data.Airline)\n",
        "\n",
        "le.fit(data.AirportFrom)\n",
        "data['AirportFrom'] = le.transform(data.AirportFrom)\n",
        "\n",
        "le.fit(data.AirportTo)\n",
        "data['AirportTo'] = le.transform(data.AirportTo)\n",
        "\n",
        "data.head()"
      ],
      "metadata": {
        "colab": {
          "base_uri": "https://localhost:8080/",
          "height": 206
        },
        "id": "79jfSPx2-4W1",
        "outputId": "86bb0738-d681-456a-d9ba-7552b4ea367e"
      },
      "execution_count": 104,
      "outputs": [
        {
          "output_type": "execute_result",
          "data": {
            "text/plain": [
              "   Airline  Flight  AirportFrom  AirportTo  DayOfWeek  Time  Length  Delay\n",
              "0        4     269          253        135          3    15     205      1\n",
              "1       14    1558          217         60          3    15     222      1\n",
              "2        1    2400          154         80          3    20     165      1\n",
              "3        1    2466          253         80          3    20     195      1\n",
              "4        2     108           14        252          3    30     202      0"
            ],
            "text/html": [
              "\n",
              "  <div id=\"df-35c34167-58f3-403c-8339-4683e28f9569\">\n",
              "    <div class=\"colab-df-container\">\n",
              "      <div>\n",
              "<style scoped>\n",
              "    .dataframe tbody tr th:only-of-type {\n",
              "        vertical-align: middle;\n",
              "    }\n",
              "\n",
              "    .dataframe tbody tr th {\n",
              "        vertical-align: top;\n",
              "    }\n",
              "\n",
              "    .dataframe thead th {\n",
              "        text-align: right;\n",
              "    }\n",
              "</style>\n",
              "<table border=\"1\" class=\"dataframe\">\n",
              "  <thead>\n",
              "    <tr style=\"text-align: right;\">\n",
              "      <th></th>\n",
              "      <th>Airline</th>\n",
              "      <th>Flight</th>\n",
              "      <th>AirportFrom</th>\n",
              "      <th>AirportTo</th>\n",
              "      <th>DayOfWeek</th>\n",
              "      <th>Time</th>\n",
              "      <th>Length</th>\n",
              "      <th>Delay</th>\n",
              "    </tr>\n",
              "  </thead>\n",
              "  <tbody>\n",
              "    <tr>\n",
              "      <th>0</th>\n",
              "      <td>4</td>\n",
              "      <td>269</td>\n",
              "      <td>253</td>\n",
              "      <td>135</td>\n",
              "      <td>3</td>\n",
              "      <td>15</td>\n",
              "      <td>205</td>\n",
              "      <td>1</td>\n",
              "    </tr>\n",
              "    <tr>\n",
              "      <th>1</th>\n",
              "      <td>14</td>\n",
              "      <td>1558</td>\n",
              "      <td>217</td>\n",
              "      <td>60</td>\n",
              "      <td>3</td>\n",
              "      <td>15</td>\n",
              "      <td>222</td>\n",
              "      <td>1</td>\n",
              "    </tr>\n",
              "    <tr>\n",
              "      <th>2</th>\n",
              "      <td>1</td>\n",
              "      <td>2400</td>\n",
              "      <td>154</td>\n",
              "      <td>80</td>\n",
              "      <td>3</td>\n",
              "      <td>20</td>\n",
              "      <td>165</td>\n",
              "      <td>1</td>\n",
              "    </tr>\n",
              "    <tr>\n",
              "      <th>3</th>\n",
              "      <td>1</td>\n",
              "      <td>2466</td>\n",
              "      <td>253</td>\n",
              "      <td>80</td>\n",
              "      <td>3</td>\n",
              "      <td>20</td>\n",
              "      <td>195</td>\n",
              "      <td>1</td>\n",
              "    </tr>\n",
              "    <tr>\n",
              "      <th>4</th>\n",
              "      <td>2</td>\n",
              "      <td>108</td>\n",
              "      <td>14</td>\n",
              "      <td>252</td>\n",
              "      <td>3</td>\n",
              "      <td>30</td>\n",
              "      <td>202</td>\n",
              "      <td>0</td>\n",
              "    </tr>\n",
              "  </tbody>\n",
              "</table>\n",
              "</div>\n",
              "      <button class=\"colab-df-convert\" onclick=\"convertToInteractive('df-35c34167-58f3-403c-8339-4683e28f9569')\"\n",
              "              title=\"Convert this dataframe to an interactive table.\"\n",
              "              style=\"display:none;\">\n",
              "        \n",
              "  <svg xmlns=\"http://www.w3.org/2000/svg\" height=\"24px\"viewBox=\"0 0 24 24\"\n",
              "       width=\"24px\">\n",
              "    <path d=\"M0 0h24v24H0V0z\" fill=\"none\"/>\n",
              "    <path d=\"M18.56 5.44l.94 2.06.94-2.06 2.06-.94-2.06-.94-.94-2.06-.94 2.06-2.06.94zm-11 1L8.5 8.5l.94-2.06 2.06-.94-2.06-.94L8.5 2.5l-.94 2.06-2.06.94zm10 10l.94 2.06.94-2.06 2.06-.94-2.06-.94-.94-2.06-.94 2.06-2.06.94z\"/><path d=\"M17.41 7.96l-1.37-1.37c-.4-.4-.92-.59-1.43-.59-.52 0-1.04.2-1.43.59L10.3 9.45l-7.72 7.72c-.78.78-.78 2.05 0 2.83L4 21.41c.39.39.9.59 1.41.59.51 0 1.02-.2 1.41-.59l7.78-7.78 2.81-2.81c.8-.78.8-2.07 0-2.86zM5.41 20L4 18.59l7.72-7.72 1.47 1.35L5.41 20z\"/>\n",
              "  </svg>\n",
              "      </button>\n",
              "      \n",
              "  <style>\n",
              "    .colab-df-container {\n",
              "      display:flex;\n",
              "      flex-wrap:wrap;\n",
              "      gap: 12px;\n",
              "    }\n",
              "\n",
              "    .colab-df-convert {\n",
              "      background-color: #E8F0FE;\n",
              "      border: none;\n",
              "      border-radius: 50%;\n",
              "      cursor: pointer;\n",
              "      display: none;\n",
              "      fill: #1967D2;\n",
              "      height: 32px;\n",
              "      padding: 0 0 0 0;\n",
              "      width: 32px;\n",
              "    }\n",
              "\n",
              "    .colab-df-convert:hover {\n",
              "      background-color: #E2EBFA;\n",
              "      box-shadow: 0px 1px 2px rgba(60, 64, 67, 0.3), 0px 1px 3px 1px rgba(60, 64, 67, 0.15);\n",
              "      fill: #174EA6;\n",
              "    }\n",
              "\n",
              "    [theme=dark] .colab-df-convert {\n",
              "      background-color: #3B4455;\n",
              "      fill: #D2E3FC;\n",
              "    }\n",
              "\n",
              "    [theme=dark] .colab-df-convert:hover {\n",
              "      background-color: #434B5C;\n",
              "      box-shadow: 0px 1px 3px 1px rgba(0, 0, 0, 0.15);\n",
              "      filter: drop-shadow(0px 1px 2px rgba(0, 0, 0, 0.3));\n",
              "      fill: #FFFFFF;\n",
              "    }\n",
              "  </style>\n",
              "\n",
              "      <script>\n",
              "        const buttonEl =\n",
              "          document.querySelector('#df-35c34167-58f3-403c-8339-4683e28f9569 button.colab-df-convert');\n",
              "        buttonEl.style.display =\n",
              "          google.colab.kernel.accessAllowed ? 'block' : 'none';\n",
              "\n",
              "        async function convertToInteractive(key) {\n",
              "          const element = document.querySelector('#df-35c34167-58f3-403c-8339-4683e28f9569');\n",
              "          const dataTable =\n",
              "            await google.colab.kernel.invokeFunction('convertToInteractive',\n",
              "                                                     [key], {});\n",
              "          if (!dataTable) return;\n",
              "\n",
              "          const docLinkHtml = 'Like what you see? Visit the ' +\n",
              "            '<a target=\"_blank\" href=https://colab.research.google.com/notebooks/data_table.ipynb>data table notebook</a>'\n",
              "            + ' to learn more about interactive tables.';\n",
              "          element.innerHTML = '';\n",
              "          dataTable['output_type'] = 'display_data';\n",
              "          await google.colab.output.renderOutput(dataTable, element);\n",
              "          const docLink = document.createElement('div');\n",
              "          docLink.innerHTML = docLinkHtml;\n",
              "          element.appendChild(docLink);\n",
              "        }\n",
              "      </script>\n",
              "    </div>\n",
              "  </div>\n",
              "  "
            ]
          },
          "metadata": {},
          "execution_count": 104
        }
      ]
    },
    {
      "cell_type": "code",
      "source": [
        "''' \n",
        "# chú thích [categorical_Airline;\tcategorical_AirportFrom;\tcategorical_AirportTo]\n",
        "{categorical_Airline [AA : 1,... ]\n",
        "{categorical_AirportFrom [ANC: 14,... ]}\n",
        "{categorical_AirportTo [DFW: 80,...]}\n",
        "'''"
      ],
      "metadata": {
        "colab": {
          "base_uri": "https://localhost:8080/",
          "height": 53
        },
        "id": "vNpXAjL5_63O",
        "outputId": "88e53733-4cb3-4b69-ee6a-869f0c96db0a"
      },
      "execution_count": 105,
      "outputs": [
        {
          "output_type": "execute_result",
          "data": {
            "text/plain": [
              "' \\n# chú thích [categorical_Airline;\\tcategorical_AirportFrom;\\tcategorical_AirportTo]\\n{categorical_Airline [AA : 1,... ]\\n{categorical_AirportFrom [ANC: 14,... ]}\\n{categorical_AirportTo [DFW: 80,...]}\\n'"
            ],
            "application/vnd.google.colaboratory.intrinsic+json": {
              "type": "string"
            }
          },
          "metadata": {},
          "execution_count": 105
        }
      ]
    },
    {
      "cell_type": "code",
      "source": [
        "# kiểm trùng và loại bỏ\n",
        "\n",
        "datashape = data.shape\n",
        "data.drop_duplicates(inplace=True)\n",
        "dif_datashape = datashape[0] - data.shape[0]\n",
        "\n",
        "print(\"Data shape gốc: \",datashape)\n",
        "print(\"Data shape sau khi loại bỏ data trùng lặp: \",data.shape)     \n",
        "print(\"Ta đã loại bỏ {} dòng \".format(dif_datashape))"
      ],
      "metadata": {
        "colab": {
          "base_uri": "https://localhost:8080/"
        },
        "id": "MmzD7CuOGeTC",
        "outputId": "365bfb98-cd77-4bfc-a39c-a4d68a4546eb"
      },
      "execution_count": 106,
      "outputs": [
        {
          "output_type": "stream",
          "name": "stdout",
          "text": [
            "Data shape gốc:  (539383, 8)\n",
            "Data shape sau khi loại bỏ data trùng lặp:  (322765, 8)\n",
            "Ta đã loại bỏ 216618 dòng \n"
          ]
        }
      ]
    },
    {
      "cell_type": "code",
      "source": [
        "# xuất file csv đã xử lý\n",
        "data.to_csv('Airlines_OK.csv',index=None)"
      ],
      "metadata": {
        "id": "v2wWJOf3FNLu"
      },
      "execution_count": 107,
      "outputs": []
    },
    {
      "cell_type": "markdown",
      "source": [
        "# Data_2\n"
      ],
      "metadata": {
        "id": "Hd3oD3tkFaHw"
      }
    },
    {
      "cell_type": "code",
      "source": [
        "#Đọc dữ liệu:\n",
        "from sklearn import tree\n",
        "import pandas as pd\n",
        "import numpy as np\n",
        "import matplotlib.pyplot as plt\n",
        "import seaborn as sns\n",
        "\n",
        "Data_2 = pd.read_csv('Airlines_OK.csv')\n",
        "Data_2.info()\n"
      ],
      "metadata": {
        "colab": {
          "base_uri": "https://localhost:8080/"
        },
        "id": "4XyDWR30Anws",
        "outputId": "9a59bc29-9dbc-43ad-df9e-96c30bf92df3"
      },
      "execution_count": 114,
      "outputs": [
        {
          "output_type": "stream",
          "name": "stdout",
          "text": [
            "<class 'pandas.core.frame.DataFrame'>\n",
            "RangeIndex: 322765 entries, 0 to 322764\n",
            "Data columns (total 8 columns):\n",
            " #   Column       Non-Null Count   Dtype\n",
            "---  ------       --------------   -----\n",
            " 0   Airline      322765 non-null  int64\n",
            " 1   Flight       322765 non-null  int64\n",
            " 2   AirportFrom  322765 non-null  int64\n",
            " 3   AirportTo    322765 non-null  int64\n",
            " 4   DayOfWeek    322765 non-null  int64\n",
            " 5   Time         322765 non-null  int64\n",
            " 6   Length       322765 non-null  int64\n",
            " 7   Delay        322765 non-null  int64\n",
            "dtypes: int64(8)\n",
            "memory usage: 19.7 MB\n"
          ]
        }
      ]
    },
    {
      "cell_type": "code",
      "source": [
        "Data_2.head()"
      ],
      "metadata": {
        "colab": {
          "base_uri": "https://localhost:8080/",
          "height": 206
        },
        "id": "bAqUuOojNzs-",
        "outputId": "1758cb20-9871-471d-deaa-6dc34286af85"
      },
      "execution_count": 131,
      "outputs": [
        {
          "output_type": "execute_result",
          "data": {
            "text/plain": [
              "   Airline  Flight  AirportFrom  AirportTo  DayOfWeek  Time  Length  Delay\n",
              "0        4     269          253        135          3    15     205      1\n",
              "1       14    1558          217         60          3    15     222      1\n",
              "2        1    2400          154         80          3    20     165      1\n",
              "3        1    2466          253         80          3    20     195      1\n",
              "4        2     108           14        252          3    30     202      0"
            ],
            "text/html": [
              "\n",
              "  <div id=\"df-876a7754-ea91-4b5a-a710-25d051859a3b\">\n",
              "    <div class=\"colab-df-container\">\n",
              "      <div>\n",
              "<style scoped>\n",
              "    .dataframe tbody tr th:only-of-type {\n",
              "        vertical-align: middle;\n",
              "    }\n",
              "\n",
              "    .dataframe tbody tr th {\n",
              "        vertical-align: top;\n",
              "    }\n",
              "\n",
              "    .dataframe thead th {\n",
              "        text-align: right;\n",
              "    }\n",
              "</style>\n",
              "<table border=\"1\" class=\"dataframe\">\n",
              "  <thead>\n",
              "    <tr style=\"text-align: right;\">\n",
              "      <th></th>\n",
              "      <th>Airline</th>\n",
              "      <th>Flight</th>\n",
              "      <th>AirportFrom</th>\n",
              "      <th>AirportTo</th>\n",
              "      <th>DayOfWeek</th>\n",
              "      <th>Time</th>\n",
              "      <th>Length</th>\n",
              "      <th>Delay</th>\n",
              "    </tr>\n",
              "  </thead>\n",
              "  <tbody>\n",
              "    <tr>\n",
              "      <th>0</th>\n",
              "      <td>4</td>\n",
              "      <td>269</td>\n",
              "      <td>253</td>\n",
              "      <td>135</td>\n",
              "      <td>3</td>\n",
              "      <td>15</td>\n",
              "      <td>205</td>\n",
              "      <td>1</td>\n",
              "    </tr>\n",
              "    <tr>\n",
              "      <th>1</th>\n",
              "      <td>14</td>\n",
              "      <td>1558</td>\n",
              "      <td>217</td>\n",
              "      <td>60</td>\n",
              "      <td>3</td>\n",
              "      <td>15</td>\n",
              "      <td>222</td>\n",
              "      <td>1</td>\n",
              "    </tr>\n",
              "    <tr>\n",
              "      <th>2</th>\n",
              "      <td>1</td>\n",
              "      <td>2400</td>\n",
              "      <td>154</td>\n",
              "      <td>80</td>\n",
              "      <td>3</td>\n",
              "      <td>20</td>\n",
              "      <td>165</td>\n",
              "      <td>1</td>\n",
              "    </tr>\n",
              "    <tr>\n",
              "      <th>3</th>\n",
              "      <td>1</td>\n",
              "      <td>2466</td>\n",
              "      <td>253</td>\n",
              "      <td>80</td>\n",
              "      <td>3</td>\n",
              "      <td>20</td>\n",
              "      <td>195</td>\n",
              "      <td>1</td>\n",
              "    </tr>\n",
              "    <tr>\n",
              "      <th>4</th>\n",
              "      <td>2</td>\n",
              "      <td>108</td>\n",
              "      <td>14</td>\n",
              "      <td>252</td>\n",
              "      <td>3</td>\n",
              "      <td>30</td>\n",
              "      <td>202</td>\n",
              "      <td>0</td>\n",
              "    </tr>\n",
              "  </tbody>\n",
              "</table>\n",
              "</div>\n",
              "      <button class=\"colab-df-convert\" onclick=\"convertToInteractive('df-876a7754-ea91-4b5a-a710-25d051859a3b')\"\n",
              "              title=\"Convert this dataframe to an interactive table.\"\n",
              "              style=\"display:none;\">\n",
              "        \n",
              "  <svg xmlns=\"http://www.w3.org/2000/svg\" height=\"24px\"viewBox=\"0 0 24 24\"\n",
              "       width=\"24px\">\n",
              "    <path d=\"M0 0h24v24H0V0z\" fill=\"none\"/>\n",
              "    <path d=\"M18.56 5.44l.94 2.06.94-2.06 2.06-.94-2.06-.94-.94-2.06-.94 2.06-2.06.94zm-11 1L8.5 8.5l.94-2.06 2.06-.94-2.06-.94L8.5 2.5l-.94 2.06-2.06.94zm10 10l.94 2.06.94-2.06 2.06-.94-2.06-.94-.94-2.06-.94 2.06-2.06.94z\"/><path d=\"M17.41 7.96l-1.37-1.37c-.4-.4-.92-.59-1.43-.59-.52 0-1.04.2-1.43.59L10.3 9.45l-7.72 7.72c-.78.78-.78 2.05 0 2.83L4 21.41c.39.39.9.59 1.41.59.51 0 1.02-.2 1.41-.59l7.78-7.78 2.81-2.81c.8-.78.8-2.07 0-2.86zM5.41 20L4 18.59l7.72-7.72 1.47 1.35L5.41 20z\"/>\n",
              "  </svg>\n",
              "      </button>\n",
              "      \n",
              "  <style>\n",
              "    .colab-df-container {\n",
              "      display:flex;\n",
              "      flex-wrap:wrap;\n",
              "      gap: 12px;\n",
              "    }\n",
              "\n",
              "    .colab-df-convert {\n",
              "      background-color: #E8F0FE;\n",
              "      border: none;\n",
              "      border-radius: 50%;\n",
              "      cursor: pointer;\n",
              "      display: none;\n",
              "      fill: #1967D2;\n",
              "      height: 32px;\n",
              "      padding: 0 0 0 0;\n",
              "      width: 32px;\n",
              "    }\n",
              "\n",
              "    .colab-df-convert:hover {\n",
              "      background-color: #E2EBFA;\n",
              "      box-shadow: 0px 1px 2px rgba(60, 64, 67, 0.3), 0px 1px 3px 1px rgba(60, 64, 67, 0.15);\n",
              "      fill: #174EA6;\n",
              "    }\n",
              "\n",
              "    [theme=dark] .colab-df-convert {\n",
              "      background-color: #3B4455;\n",
              "      fill: #D2E3FC;\n",
              "    }\n",
              "\n",
              "    [theme=dark] .colab-df-convert:hover {\n",
              "      background-color: #434B5C;\n",
              "      box-shadow: 0px 1px 3px 1px rgba(0, 0, 0, 0.15);\n",
              "      filter: drop-shadow(0px 1px 2px rgba(0, 0, 0, 0.3));\n",
              "      fill: #FFFFFF;\n",
              "    }\n",
              "  </style>\n",
              "\n",
              "      <script>\n",
              "        const buttonEl =\n",
              "          document.querySelector('#df-876a7754-ea91-4b5a-a710-25d051859a3b button.colab-df-convert');\n",
              "        buttonEl.style.display =\n",
              "          google.colab.kernel.accessAllowed ? 'block' : 'none';\n",
              "\n",
              "        async function convertToInteractive(key) {\n",
              "          const element = document.querySelector('#df-876a7754-ea91-4b5a-a710-25d051859a3b');\n",
              "          const dataTable =\n",
              "            await google.colab.kernel.invokeFunction('convertToInteractive',\n",
              "                                                     [key], {});\n",
              "          if (!dataTable) return;\n",
              "\n",
              "          const docLinkHtml = 'Like what you see? Visit the ' +\n",
              "            '<a target=\"_blank\" href=https://colab.research.google.com/notebooks/data_table.ipynb>data table notebook</a>'\n",
              "            + ' to learn more about interactive tables.';\n",
              "          element.innerHTML = '';\n",
              "          dataTable['output_type'] = 'display_data';\n",
              "          await google.colab.output.renderOutput(dataTable, element);\n",
              "          const docLink = document.createElement('div');\n",
              "          docLink.innerHTML = docLinkHtml;\n",
              "          element.appendChild(docLink);\n",
              "        }\n",
              "      </script>\n",
              "    </div>\n",
              "  </div>\n",
              "  "
            ]
          },
          "metadata": {},
          "execution_count": 131
        }
      ]
    },
    {
      "cell_type": "code",
      "source": [
        "pie_df=pd.DataFrame(Data_2.groupby('Delay')['Delay'].count())\n",
        "\n",
        "colors = ['#ff9966','#3399ff']\n",
        "plt.pie(pie_df['Delay'],labels=['NO','YES'],\n",
        "        autopct='%.1f%%',colors=colors,radius=2,explode = (0, 0.1),shadow=True)\n",
        "\n",
        "plt.show()\n",
        "\n",
        "print(Data_2[\"Delay\"].value_counts())"
      ],
      "metadata": {
        "colab": {
          "base_uri": "https://localhost:8080/",
          "height": 483
        },
        "id": "JI8NDfg04kTy",
        "outputId": "ef210d2d-6995-4611-8644-21d121e717a7"
      },
      "execution_count": 122,
      "outputs": [
        {
          "output_type": "display_data",
          "data": {
            "text/plain": [
              "<Figure size 432x288 with 1 Axes>"
            ],
            "image/png": "[encoded data removed]"
          },
          "metadata": {}
        },
        {
          "output_type": "stream",
          "name": "stdout",
          "text": [
            "0    168163\n",
            "1    154602\n",
            "Name: Delay, dtype: int64\n"
          ]
        }
      ]
    },
    {
      "cell_type": "code",
      "source": [
        "# heat map\n",
        "plt.figure(figsize=(15,8))\n",
        "sns.heatmap(Data_2.corr(), annot=True, cmap= 'YlGnBu')"
      ],
      "metadata": {
        "colab": {
          "base_uri": "https://localhost:8080/",
          "height": 504
        },
        "id": "6mqUjGSA6_0v",
        "outputId": "d9b923cd-cf47-45e6-c996-d5c1947035ed"
      },
      "execution_count": 123,
      "outputs": [
        {
          "output_type": "execute_result",
          "data": {
            "text/plain": [
              "<matplotlib.axes._subplots.AxesSubplot at 0x7fa48a56fd60>"
            ]
          },
          "metadata": {},
          "execution_count": 123
        },
        {
          "output_type": "display_data",
          "data": {
            "text/plain": [
              "<Figure size 1080x576 with 2 Axes>"
            ],
            "image/png": "[encoded data removed]"
          },
          "metadata": {
            "needs_background": "light"
          }
        }
      ]
    },
    {
      "cell_type": "markdown",
      "source": [
        "##  DecisionTree DELAY or NOT\n"
      ],
      "metadata": {
        "id": "XEKeCSRmRZVH"
      }
    },
    {
      "cell_type": "code",
      "source": [
        "#Tách biến độc lập - biến phụ thuộc\n",
        "X_B2 = Data_2.iloc[:,:5].values\n",
        "y_B2 = Data_2.iloc[:,-1].values\n",
        "\n",
        "print('Kích thước biến độc lập X(features):', X_B2.shape)\n",
        "print('Kích thước biến phụ thuộc y(target)   :', y_B2.shape)"
      ],
      "metadata": {
        "colab": {
          "base_uri": "https://localhost:8080/"
        },
        "id": "EgD7TUh2M9v3",
        "outputId": "89916d75-0d12-423a-cf6b-dd62b3465edf"
      },
      "execution_count": 141,
      "outputs": [
        {
          "output_type": "stream",
          "name": "stdout",
          "text": [
            "Kích thước biến độc lập X(features): (322765, 5)\n",
            "Kích thước biến phụ thuộc y(target)   : (322765,)\n"
          ]
        }
      ]
    },
    {
      "cell_type": "code",
      "source": [
        "#Tách dữ liệu thành 2 phần Train - Test:\n",
        "from sklearn.model_selection import train_test_split\n",
        "X_train_B2, X_test_B2, y_train_B2, y_test_B2 = train_test_split(X_B2, y_B2, \n",
        "                                                    test_size=0.20, \n",
        "                                                    random_state=50)\n",
        "\n",
        "print(\"1. Kích thước tập Training: %d\" %len(y_train_B2))\n",
        "print(\"2. Kích thước tập Test    : %d\" %len(y_test_B2))"
      ],
      "metadata": {
        "colab": {
          "base_uri": "https://localhost:8080/"
        },
        "id": "0_rhdMpiNTwA",
        "outputId": "a59d3728-66b1-4ab3-ab61-eb32608bd58f"
      },
      "execution_count": 142,
      "outputs": [
        {
          "output_type": "stream",
          "name": "stdout",
          "text": [
            "1. Kích thước tập Training: 258212\n",
            "2. Kích thước tập Test    : 64553\n"
          ]
        }
      ]
    },
    {
      "cell_type": "code",
      "source": [
        "#Khai báo model phân lớp sử dụng cây quyết định:\n",
        "#Gọi thư viên thuật toán DecisionTree\n",
        "from sklearn.tree import DecisionTreeClassifier\n",
        "\n",
        "model_tree = DecisionTreeClassifier()\n",
        "\n",
        "#Các tham số của model DecisionTree\n",
        "print('DANH SÁC CÁC THAM SỐ CỦA MODEL:')\n",
        "model_tree.get_params()\n"
      ],
      "metadata": {
        "colab": {
          "base_uri": "https://localhost:8080/"
        },
        "id": "LFLMEJRsNc7M",
        "outputId": "16354fbc-ed8f-4389-dbaf-969b16a07542"
      },
      "execution_count": 144,
      "outputs": [
        {
          "output_type": "stream",
          "name": "stdout",
          "text": [
            "DANH SÁC CÁC THAM SỐ CỦA MODEL:\n"
          ]
        },
        {
          "output_type": "execute_result",
          "data": {
            "text/plain": [
              "{'ccp_alpha': 0.0,\n",
              " 'class_weight': None,\n",
              " 'criterion': 'gini',\n",
              " 'max_depth': None,\n",
              " 'max_features': None,\n",
              " 'max_leaf_nodes': None,\n",
              " 'min_impurity_decrease': 0.0,\n",
              " 'min_samples_leaf': 1,\n",
              " 'min_samples_split': 2,\n",
              " 'min_weight_fraction_leaf': 0.0,\n",
              " 'random_state': None,\n",
              " 'splitter': 'best'}"
            ]
          },
          "metadata": {},
          "execution_count": 144
        }
      ]
    },
    {
      "cell_type": "code",
      "source": [
        "# Huấn luyện mô hình với dữ liệu huấn luyện\n",
        "model_tree.fit(X_train_B2, y_train_B2)\n",
        "\n",
        "print(\"Độ chính xác của tập huấn luyện:\",round(model_tree.score(X_train_B2, y_train_B2)*100,2))"
      ],
      "metadata": {
        "colab": {
          "base_uri": "https://localhost:8080/"
        },
        "id": "jKwfGV-1Nmu9",
        "outputId": "f83fdfa7-2186-4665-bb15-810e10d20004"
      },
      "execution_count": 145,
      "outputs": [
        {
          "output_type": "stream",
          "name": "stdout",
          "text": [
            "Độ chính xác của tập huấn luyện: 73.6\n"
          ]
        }
      ]
    },
    {
      "cell_type": "code",
      "source": [
        "#Đặt tên cho các thuộc tính và các lớp :\n",
        "feature_names = ['Airline','Flight','AirportFrom','AirportTo','DayOfWeek']\n",
        "target_names = ['0: No', '1: Yes']"
      ],
      "metadata": {
        "id": "c6og78uCNuBl"
      },
      "execution_count": 146,
      "outputs": []
    },
    {
      "cell_type": "code",
      "source": [
        "#Xác định mực độ quan trọng của các thuộc tính độc lập:\n",
        "print(feature_names)\n",
        "print(model_tree.feature_importances_)\n",
        "\n",
        "#Trực quan hóa\n",
        "plt.figure(figsize=(8,4))\n",
        "plt.barh(feature_names,model_tree.feature_importances_)\n",
        "\n",
        "plt.title('MỨC ĐỘ QUAN TRỌNG CỦA CÁC THỘC TÍNH')\n",
        "plt.ylabel('Danh sách thuộc tính')\n",
        "plt.xlabel('Độ quan trọng')\n",
        "plt.grid(True)\n",
        "plt.show()"
      ],
      "metadata": {
        "colab": {
          "base_uri": "https://localhost:8080/",
          "height": 333
        },
        "id": "rBDye_URODPG",
        "outputId": "46aca56d-2747-4b20-9677-c78dd5fdba48"
      },
      "execution_count": 147,
      "outputs": [
        {
          "output_type": "stream",
          "name": "stdout",
          "text": [
            "['Airline', 'Flight', 'AirportFrom', 'AirportTo', 'DayOfWeek']\n",
            "[0.08412713 0.44234052 0.12524655 0.13738127 0.21090453]\n"
          ]
        },
        {
          "output_type": "display_data",
          "data": {
            "text/plain": [
              "<Figure size 576x288 with 1 Axes>"
            ],
            "image/png": "[encoded data removed]"
          },
          "metadata": {
            "needs_background": "light"
          }
        }
      ]
    },
    {
      "cell_type": "code",
      "source": [
        "y_pred_B2 = model_tree.predict(X_test_B2)\n",
        "\n",
        "print(\"Kết quả phân loại DELAY tập dữ liệu TEST:\")\n",
        "print(\"Predicted labels: \", y_pred_B2)\n",
        "print(\"Ground truth    : \", y_test_B2)"
      ],
      "metadata": {
        "colab": {
          "base_uri": "https://localhost:8080/"
        },
        "id": "AMd8IuWROIhI",
        "outputId": "04094b22-380e-49ec-cf9b-c0a27b8d7e8e"
      },
      "execution_count": 148,
      "outputs": [
        {
          "output_type": "stream",
          "name": "stdout",
          "text": [
            "Kết quả phân loại DELAY tập dữ liệu TEST:\n",
            "Predicted labels:  [0 0 0 ... 0 0 0]\n",
            "Ground truth    :  [0 1 1 ... 1 0 0]\n"
          ]
        }
      ]
    },
    {
      "cell_type": "code",
      "source": [
        "y_pred_B2 = model_tree.predict(X_test_B2)\n",
        "#Đánh giá độ chính xác:\n",
        "from sklearn.metrics import accuracy_score\n",
        "acc_B2 = accuracy_score(y_test_B2, y_pred_B2, normalize=True)\n",
        "acc_num_B2 = accuracy_score(y_test_B2, y_pred_B2, normalize=False)\n",
        "\n",
        "print(\"Độ chính xác đạt của model trên tập Test:\", round(acc_B2*100,2))\n",
        "print(\"Tổng số mẫu dự đoán đúng:\",acc_num_B2, '/', len(y_test_B2))"
      ],
      "metadata": {
        "colab": {
          "base_uri": "https://localhost:8080/"
        },
        "id": "hAAW9tz7OdZJ",
        "outputId": "789bfb46-83c5-4500-d4f6-c8c77b57e79c"
      },
      "execution_count": 154,
      "outputs": [
        {
          "output_type": "stream",
          "name": "stdout",
          "text": [
            "Độ chính xác đạt của model trên tập Test: 35.39\n",
            "Tổng số mẫu dự đoán đúng: 22847 / 64553\n"
          ]
        }
      ]
    },
    {
      "cell_type": "code",
      "source": [
        "## Ma trận confusion matrix trên tập Test\n",
        "#Hiển thị confusion matrix:\n",
        "from sklearn.metrics import plot_confusion_matrix\n",
        "\n",
        "#Hiển thị confusion matrix theo số lượng:\n",
        "plot_confusion_matrix(model_tree, X_test_B2, y_test_B2)  \n",
        "plt.show()"
      ],
      "metadata": {
        "colab": {
          "base_uri": "https://localhost:8080/",
          "height": 334
        },
        "id": "4FKGZC4POwZD",
        "outputId": "9299729c-9ac6-46d1-a82b-9a7680da456e"
      },
      "execution_count": 150,
      "outputs": [
        {
          "output_type": "stream",
          "name": "stderr",
          "text": [
            "/usr/local/lib/python3.8/dist-packages/sklearn/utils/deprecation.py:87: FutureWarning: Function plot_confusion_matrix is deprecated; Function `plot_confusion_matrix` is deprecated in 1.0 and will be removed in 1.2. Use one of the class methods: ConfusionMatrixDisplay.from_predictions or ConfusionMatrixDisplay.from_estimator.\n",
            "  warnings.warn(msg, category=FutureWarning)\n"
          ]
        },
        {
          "output_type": "display_data",
          "data": {
            "text/plain": [
              "<Figure size 432x288 with 2 Axes>"
            ],
            "image/png": "[encoded data removed]"
          },
          "metadata": {
            "needs_background": "light"
          }
        }
      ]
    },
    {
      "cell_type": "code",
      "source": [
        "#Hiển thị confusion matrix theo tỷ lệ % của từng class:\n",
        "plot_confusion_matrix(model_tree, X_test_B2, y_test_B2, normalize='true')  \n",
        "plt.show()"
      ],
      "metadata": {
        "colab": {
          "base_uri": "https://localhost:8080/",
          "height": 334
        },
        "id": "LxtEbKQsO7on",
        "outputId": "ffd42e65-92f4-4e5d-c27c-ae47227e93bd"
      },
      "execution_count": 151,
      "outputs": [
        {
          "output_type": "stream",
          "name": "stderr",
          "text": [
            "/usr/local/lib/python3.8/dist-packages/sklearn/utils/deprecation.py:87: FutureWarning: Function plot_confusion_matrix is deprecated; Function `plot_confusion_matrix` is deprecated in 1.0 and will be removed in 1.2. Use one of the class methods: ConfusionMatrixDisplay.from_predictions or ConfusionMatrixDisplay.from_estimator.\n",
            "  warnings.warn(msg, category=FutureWarning)\n"
          ]
        },
        {
          "output_type": "display_data",
          "data": {
            "text/plain": [
              "<Figure size 432x288 with 2 Axes>"
            ],
            "image/png": "[encoded data removed]"
          },
          "metadata": {
            "needs_background": "light"
          }
        }
      ]
    },
    {
      "cell_type": "code",
      "source": [
        "#Hiển thị confusion matrix theo tỷ lệ % của tất cả các mẫu:\n",
        "plot_confusion_matrix(model_tree, X_test_B2, y_test_B2, normalize='all')  \n",
        "plt.show()"
      ],
      "metadata": {
        "colab": {
          "base_uri": "https://localhost:8080/",
          "height": 334
        },
        "id": "bLv1OV3vPA3k",
        "outputId": "58ce1eb0-db8d-46fc-bad3-d9ea50eb9d14"
      },
      "execution_count": 152,
      "outputs": [
        {
          "output_type": "stream",
          "name": "stderr",
          "text": [
            "/usr/local/lib/python3.8/dist-packages/sklearn/utils/deprecation.py:87: FutureWarning: Function plot_confusion_matrix is deprecated; Function `plot_confusion_matrix` is deprecated in 1.0 and will be removed in 1.2. Use one of the class methods: ConfusionMatrixDisplay.from_predictions or ConfusionMatrixDisplay.from_estimator.\n",
            "  warnings.warn(msg, category=FutureWarning)\n"
          ]
        },
        {
          "output_type": "display_data",
          "data": {
            "text/plain": [
              "<Figure size 432x288 with 2 Axes>"
            ],
            "image/png": "[encoded data removed]"
          },
          "metadata": {
            "needs_background": "light"
          }
        }
      ]
    },
    {
      "cell_type": "code",
      "source": [
        "# predict new input [4\t269\t253\t135\t3\t]\n",
        "import numpy as np\n",
        "X_5 = np.array([(4,\t269,\t253,\t135,\t3)])\n",
        "\n",
        "print('Thông số input mới:', X_5)\n",
        "\n",
        "#Xác định delay hay không dựa vào các thông số này trên model đã huấn luyện\n",
        "y_5 = model_tree.predict(X_5)\n",
        "\n",
        "print('---------------------------------------------')\n",
        "print('MACHINE LEARNING dự đoán chuyến bay có delay hay không:')\n",
        "if y_5==0:\n",
        "    print(target_names[0])\n",
        "elif y_5==1:\n",
        "    print(target_names[1])"
      ],
      "metadata": {
        "colab": {
          "base_uri": "https://localhost:8080/"
        },
        "id": "dyzYVXVqPEIh",
        "outputId": "bd78d58c-9050-4bd7-f0ce-f20b80040a82"
      },
      "execution_count": 153,
      "outputs": [
        {
          "output_type": "stream",
          "name": "stdout",
          "text": [
            "Thông số input mới: [[  4 269 253 135   3]]\n",
            "---------------------------------------------\n",
            "MACHINE LEARNING dự đoán chuyến bay có delay hay không:\n",
            "1: Yes\n"
          ]
        }
      ]
    },
    {
      "cell_type": "markdown",
      "source": [
        "## naivebayes"
      ],
      "metadata": {
        "id": "m8H1b8eiRTQX"
      }
    },
    {
      "cell_type": "code",
      "source": [
        "#Tách biến độc lập - biến phụ thuộc\n",
        "X_B2 = Data_2.iloc[:,:7].values\n",
        "y_B2 = Data_2.iloc[:,-1].values\n",
        "\n",
        "print('Kích thước biến độc lập X(features):', X_B2.shape)\n",
        "print('Kích thước biến phụ thuộc y(target)   :', y_B2.shape)"
      ],
      "metadata": {
        "colab": {
          "base_uri": "https://localhost:8080/"
        },
        "id": "3rcjb9ABTjLe",
        "outputId": "a3fe2f5d-2f65-4ec8-e8d3-b13145d2ce53"
      },
      "execution_count": 155,
      "outputs": [
        {
          "output_type": "stream",
          "name": "stdout",
          "text": [
            "Kích thước biến độc lập X(features): (322765, 7)\n",
            "Kích thước biến phụ thuộc y(target)   : (322765,)\n"
          ]
        }
      ]
    },
    {
      "cell_type": "code",
      "source": [
        "#Tách dữ liệu thành 2 phần Train - Test:\n",
        "from sklearn.model_selection import train_test_split\n",
        "X_train_B2, X_test_B2, y_train_B2, y_test_B2 = train_test_split(X_B2, y_B2, \n",
        "                                                    test_size=0.20, \n",
        "                                                    random_state=50)\n",
        "\n",
        "print(\"1. Kích thước tập Training: %d\" %len(y_train_B2))\n",
        "print(\"2. Kích thước tập Test    : %d\" %len(y_test_B2))"
      ],
      "metadata": {
        "colab": {
          "base_uri": "https://localhost:8080/"
        },
        "id": "yvlEqWizTnZy",
        "outputId": "f4e76102-2344-4bcf-cec0-b7ebfa9e07c7"
      },
      "execution_count": 156,
      "outputs": [
        {
          "output_type": "stream",
          "name": "stdout",
          "text": [
            "1. Kích thước tập Training: 258212\n",
            "2. Kích thước tập Test    : 64553\n"
          ]
        }
      ]
    },
    {
      "cell_type": "code",
      "source": [
        "#Khai báo model Gaussian NaiveBayes\n",
        "#Gọi thư viên thuật toán Gaussian NaiveBayes\n",
        "from sklearn.naive_bayes import GaussianNB\n",
        "\n",
        "model_GNB = GaussianNB()\n",
        "\n",
        "#Các tham số của model Gaussian NaiveBayes\n",
        "print('DANH SÁC CÁC THAM SỐ CỦA MODEL:')\n",
        "model_GNB.get_params()\n"
      ],
      "metadata": {
        "colab": {
          "base_uri": "https://localhost:8080/"
        },
        "id": "I836ArQDTsJt",
        "outputId": "f8e09057-c496-4c02-8055-f0f107810fd5"
      },
      "execution_count": 160,
      "outputs": [
        {
          "output_type": "stream",
          "name": "stdout",
          "text": [
            "DANH SÁC CÁC THAM SỐ CỦA MODEL:\n"
          ]
        },
        {
          "output_type": "execute_result",
          "data": {
            "text/plain": [
              "{'priors': None, 'var_smoothing': 1e-09}"
            ]
          },
          "metadata": {},
          "execution_count": 160
        }
      ]
    },
    {
      "cell_type": "code",
      "source": [
        "# Huấn luyện mô hình với dữ liệu huấn luyện\n",
        "model_GNB.fit(X_train_B2, y_train_B2)\n",
        "\n",
        "print(\"Độ chính xác của tập huấn luyện:\",round(model_GNB.score(X_train_B2, y_train_B2)*100,2))"
      ],
      "metadata": {
        "colab": {
          "base_uri": "https://localhost:8080/"
        },
        "id": "78rVZGoOT07I",
        "outputId": "329edc77-61a3-4a7c-968b-12854ab833ef"
      },
      "execution_count": 162,
      "outputs": [
        {
          "output_type": "stream",
          "name": "stdout",
          "text": [
            "Độ chính xác của tập huấn luyện: 55.6\n"
          ]
        }
      ]
    },
    {
      "cell_type": "code",
      "source": [
        "# Check for overfitting and underfitting \n",
        "print('\\nTraining set score: {:.4f}'.format(model_GNB.score(X_train_B2, y_train_B2)))\n",
        "print('Test set score: {:.4f}'.format(model_GNB.score(X_test_B2, y_test_B2)))"
      ],
      "metadata": {
        "colab": {
          "base_uri": "https://localhost:8080/"
        },
        "id": "RhgyFpTKUw4k",
        "outputId": "21027282-f18c-4ebc-fde4-45671b16bc1b"
      },
      "execution_count": 163,
      "outputs": [
        {
          "output_type": "stream",
          "name": "stdout",
          "text": [
            "\n",
            "Training set score: 0.5560\n",
            "Test set score: 0.5581\n"
          ]
        }
      ]
    },
    {
      "cell_type": "code",
      "source": [
        "#Hiển thị confusion matrix theo số lượng:\n",
        "plot_confusion_matrix(model_GNB, X_test_B2, y_test_B2)  \n",
        "plt.show()"
      ],
      "metadata": {
        "colab": {
          "base_uri": "https://localhost:8080/",
          "height": 334
        },
        "id": "j9B2bgW_WC3X",
        "outputId": "3737b46b-ccc2-421f-b0be-d6e4cb692738"
      },
      "execution_count": 164,
      "outputs": [
        {
          "output_type": "stream",
          "name": "stderr",
          "text": [
            "/usr/local/lib/python3.8/dist-packages/sklearn/utils/deprecation.py:87: FutureWarning: Function plot_confusion_matrix is deprecated; Function `plot_confusion_matrix` is deprecated in 1.0 and will be removed in 1.2. Use one of the class methods: ConfusionMatrixDisplay.from_predictions or ConfusionMatrixDisplay.from_estimator.\n",
            "  warnings.warn(msg, category=FutureWarning)\n"
          ]
        },
        {
          "output_type": "display_data",
          "data": {
            "text/plain": [
              "<Figure size 432x288 with 2 Axes>"
            ],
            "image/png": "[encoded data removed]"
          },
          "metadata": {
            "needs_background": "light"
          }
        }
      ]
    },
    {
      "cell_type": "code",
      "source": [
        "# Classification Report\n",
        "from sklearn.metrics import classification_report\n",
        "from sklearn import metrics\n",
        "\n",
        "y_pred  = model_GNB.predict(X_test_B2)\n",
        "print(metrics.classification_report(y_test_B2, y_pred, labels=[0,1]))"
      ],
      "metadata": {
        "colab": {
          "base_uri": "https://localhost:8080/"
        },
        "id": "ttiSEWtWWTtu",
        "outputId": "0174085e-9f03-4787-d353-1c82265f5d90"
      },
      "execution_count": 169,
      "outputs": [
        {
          "output_type": "stream",
          "name": "stdout",
          "text": [
            "              precision    recall  f1-score   support\n",
            "\n",
            "           0       0.57      0.65      0.61     33812\n",
            "           1       0.54      0.46      0.50     30741\n",
            "\n",
            "    accuracy                           0.56     64553\n",
            "   macro avg       0.56      0.55      0.55     64553\n",
            "weighted avg       0.56      0.56      0.55     64553\n",
            "\n"
          ]
        }
      ]
    }
  ]
}