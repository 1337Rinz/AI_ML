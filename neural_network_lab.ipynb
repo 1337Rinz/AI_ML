{
  "nbformat": 4,
  "nbformat_minor": 0,
  "metadata": {
    "colab": {
      "provenance": [],
      "authorship_tag": "ABX9TyML+9jAQViUnW6O9t54JuDq",
      "include_colab_link": true
    },
    "kernelspec": {
      "name": "python3",
      "display_name": "Python 3"
    },
    "language_info": {
      "name": "python"
    }
  },
  "cells": [
    {
      "cell_type": "markdown",
      "metadata": {
        "id": "view-in-github",
        "colab_type": "text"
      },
      "source": [
        "<a href=\"https://colab.research.google.com/github/1337Rinz/AI_ML/blob/NeuralNetwork-lab/neural_network_lab.ipynb\" target=\"_parent\"><img src=\"https://colab.research.google.com/assets/colab-badge.svg\" alt=\"Open In Colab\"/></a>"
      ]
    },
    {
      "cell_type": "markdown",
      "source": [
        "#Lab 8\n"
      ],
      "metadata": {
        "id": "ZJVzEjl2kaf-"
      }
    },
    {
      "cell_type": "markdown",
      "source": [
        "Dựa vào giải thuật di truyền thực hiện bài toán đoán PASSWORD. (Guessing Passsword).\n",
        "\n",
        "sử dụng ký tự trong bảng chữ cái để tái tạo lại mật khẩu. Chúng ta sẽ bắt đầu với những ký tự: a-z,A-Z,!,* . để tái tạo nên mật khẩu : \"I * Love * Rinz\""
      ],
      "metadata": {
        "id": "CaE-miainfX_"
      }
    },
    {
      "cell_type": "code",
      "execution_count": 2,
      "metadata": {
        "id": "M-a5XOkgkKC4"
      },
      "outputs": [],
      "source": [
        "import random\n",
        "import datetime"
      ]
    },
    {
      "cell_type": "code",
      "source": [
        "# Input\n",
        "\n",
        "geneSet = \"abcdefghijklmnopqrstuvwxyzABCDEFGHIJKLMNOPQRSTUVWXYZ*! \"\n",
        "target = \"I * Love * Rinz\""
      ],
      "metadata": {
        "id": "jCpafJSrkjJF"
      },
      "execution_count": 3,
      "outputs": []
    },
    {
      "cell_type": "code",
      "source": [
        "def generate_parent(length):\n",
        "  genes = []\n",
        "  while len(genes) < length:\n",
        "    sampleSize = min(length - len(genes), len(geneSet))\n",
        "    genes.extend(random.sample(geneSet, sampleSize))\n",
        "  return ''.join(genes)\n",
        "\n",
        "def get_fitness(guess):\n",
        "  return sum(1 for excepted, actual in zip(target, guess)\n",
        "             if excepted == actual)\n",
        "  \n",
        "def mutate(parent):\n",
        "  index = random.randrange(0, len(parent))\n",
        "  childGenes = list(parent)\n",
        "  newGene, alternate = random.sample(geneSet, 2)\n",
        "  childGenes[index] = alternate \\\n",
        "    if newGene == childGenes[index] \\\n",
        "    else newGene\n",
        "  return ''.join(childGenes)"
      ],
      "metadata": {
        "id": "DSe9C4lek1PU"
      },
      "execution_count": 4,
      "outputs": []
    },
    {
      "cell_type": "code",
      "source": [
        "# Output\n",
        "\n",
        "random.seed()\n",
        "startTime = datetime.datetime.now()\n",
        "bestParent = generate_parent(len(target))\n",
        "bestFitness = get_fitness(bestParent)\n",
        "display(bestParent)\n",
        "while True:\n",
        "  child = mutate(bestParent)\n",
        "  childFitness = get_fitness(child)\n",
        "  if bestFitness >= childFitness:\n",
        "    continue\n",
        "  display(child)\n",
        "  if childFitness >= len(bestParent):\n",
        "    break\n",
        "  bestFitness = childFitness\n",
        "  bestParent = child"
      ],
      "metadata": {
        "colab": {
          "base_uri": "https://localhost:8080/",
          "height": 292
        },
        "id": "yGqEv-fgmNp2",
        "outputId": "2776d992-e28c-4629-aef4-3bcf1b234967"
      },
      "execution_count": 7,
      "outputs": [
        {
          "output_type": "display_data",
          "data": {
            "text/plain": [
              "'rRqCfH kmjNMFna'"
            ],
            "application/vnd.google.colaboratory.intrinsic+json": {
              "type": "string"
            }
          },
          "metadata": {}
        },
        {
          "output_type": "display_data",
          "data": {
            "text/plain": [
              "'rRqCfH km*NMFna'"
            ],
            "application/vnd.google.colaboratory.intrinsic+json": {
              "type": "string"
            }
          },
          "metadata": {}
        },
        {
          "output_type": "display_data",
          "data": {
            "text/plain": [
              "'rRqCLH km*NMFna'"
            ],
            "application/vnd.google.colaboratory.intrinsic+json": {
              "type": "string"
            }
          },
          "metadata": {}
        },
        {
          "output_type": "display_data",
          "data": {
            "text/plain": [
              "'IRqCLH km*NMFna'"
            ],
            "application/vnd.google.colaboratory.intrinsic+json": {
              "type": "string"
            }
          },
          "metadata": {}
        },
        {
          "output_type": "display_data",
          "data": {
            "text/plain": [
              "'IRqCLH k *NMFna'"
            ],
            "application/vnd.google.colaboratory.intrinsic+json": {
              "type": "string"
            }
          },
          "metadata": {}
        },
        {
          "output_type": "display_data",
          "data": {
            "text/plain": [
              "'IRqCLHvk *NMFna'"
            ],
            "application/vnd.google.colaboratory.intrinsic+json": {
              "type": "string"
            }
          },
          "metadata": {}
        },
        {
          "output_type": "display_data",
          "data": {
            "text/plain": [
              "'IRqCLovk *NMFna'"
            ],
            "application/vnd.google.colaboratory.intrinsic+json": {
              "type": "string"
            }
          },
          "metadata": {}
        },
        {
          "output_type": "display_data",
          "data": {
            "text/plain": [
              "'I qCLovk *NMFna'"
            ],
            "application/vnd.google.colaboratory.intrinsic+json": {
              "type": "string"
            }
          },
          "metadata": {}
        },
        {
          "output_type": "display_data",
          "data": {
            "text/plain": [
              "'I *CLovk *NMFna'"
            ],
            "application/vnd.google.colaboratory.intrinsic+json": {
              "type": "string"
            }
          },
          "metadata": {}
        },
        {
          "output_type": "display_data",
          "data": {
            "text/plain": [
              "'I *CLovk *NRFna'"
            ],
            "application/vnd.google.colaboratory.intrinsic+json": {
              "type": "string"
            }
          },
          "metadata": {}
        },
        {
          "output_type": "display_data",
          "data": {
            "text/plain": [
              "'I *CLove *NRFna'"
            ],
            "application/vnd.google.colaboratory.intrinsic+json": {
              "type": "string"
            }
          },
          "metadata": {}
        },
        {
          "output_type": "display_data",
          "data": {
            "text/plain": [
              "'I *CLove * RFna'"
            ],
            "application/vnd.google.colaboratory.intrinsic+json": {
              "type": "string"
            }
          },
          "metadata": {}
        },
        {
          "output_type": "display_data",
          "data": {
            "text/plain": [
              "'I *CLove * Rina'"
            ],
            "application/vnd.google.colaboratory.intrinsic+json": {
              "type": "string"
            }
          },
          "metadata": {}
        },
        {
          "output_type": "display_data",
          "data": {
            "text/plain": [
              "'I * Love * Rina'"
            ],
            "application/vnd.google.colaboratory.intrinsic+json": {
              "type": "string"
            }
          },
          "metadata": {}
        },
        {
          "output_type": "display_data",
          "data": {
            "text/plain": [
              "'I * Love * Rinz'"
            ],
            "application/vnd.google.colaboratory.intrinsic+json": {
              "type": "string"
            }
          },
          "metadata": {}
        }
      ]
    },
    {
      "cell_type": "code",
      "source": [
        "\n"
      ],
      "metadata": {
        "id": "Xi3B8ja-oirn"
      },
      "execution_count": null,
      "outputs": []
    }
  ]
}